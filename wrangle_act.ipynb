{
 "cells": [
  {
   "cell_type": "markdown",
   "metadata": {},
   "source": [
    "<h2 style=\"color:black; font-style:italic;\">Importing modules</h2>"
   ]
  },
  {
   "cell_type": "code",
   "execution_count": null,
   "metadata": {},
   "outputs": [],
   "source": [
    "import pandas as pd\n",
    "import requests\n",
    "import os   \n",
    "import json  \n",
    "import re as re  \n",
    "from matplotlib import pyplot as plt  \n",
    "import numpy as np                          "
   ]
  },
  {
   "cell_type": "markdown",
   "metadata": {},
   "source": [
    "<h4 style=\"color:black; font-weight:600;\"><a href=\"#gathering\">Data gathering</a></h4>\n",
    "<ol style=\"color:black\">\n",
    "<li><a href=\"#gathering_img_pred\">Gathering image predictions file</a></li>\n",
    "<li><a href=\"#gathering_tweet_json\">Gathering tweet JSON file</a></li>\n",
    "<li><a href=\"#gathering_tweet_archive\">Gathering tweet archive file</a></li>\n",
    "</ol>"
   ]
  },
  {
   "cell_type": "markdown",
   "metadata": {},
   "source": [
    "<h4 style=\"color:black; font-weight:600;\"><a href=\"#assessment\">Data assessment</a></h4>\n",
    "<ol style=\"color:black\">\n",
    "<li><a href=\"#assessment_img_pred\">Assessment image predictions file</a></li>\n",
    "<ul>\n",
    "<li><a href=\"#question_1\">Column names are not descriptive</a></li>\n",
    "<li><a href=\"#question_2\">The column img_num is useless</a></li>\n",
    "<li><a href=\"#question_3\">Dog names do not start with capital letters</a></li>\n",
    "</ul>\n",
    "<li><a href=\"#assessment_tweet_json\">Assessment tweet JSON file</a></li>\n",
    "<ul>\n",
    "<li><a href=\"#question_4\">All coordinates data are null</a></li>\n",
    "<li><a href=\"#question_5\">Tweet_source column contain HTML code</a></li>\n",
    "<li><a href=\"#question_6\">Some columns are not useful</a></li>\n",
    "<li><a href=\"#question_7\">Tweet date is not at good format</a></li>\n",
    "</ul>\n",
    "<li><a href=\"#assessment_tweet_archive\">Assessment tweet archive file</a></li>\n",
    "<ul>\n",
    "<li><a href=\"#question_8\">They are many null data and retweets that are not ratings</a></li>\n",
    "<li><a href=\"#question_9\">Columns names do not start with capital letters</a></li>\n",
    "<li><a href=\"#question_10\">Tweet_source column contain HTML code</a></li>\n",
    "<li><a href=\"#question_11\">Timestamp is not at good format</a></li>\n",
    "<li><a href=\"#question_12\">Doggo, Floofer, Pooper, and Puppo columns can be converted into one column</a></li>\n",
    "<li><a href=\"#question_13\">The 3 tables are part of the same dataset and  must be merged</a></li>\n",
    "</ul>\n",
    "</ol>"
   ]
  },
  {
   "cell_type": "markdown",
   "metadata": {},
   "source": [
    "<h4 style=\"color:black; font-weight:600;\"><a href=\"#cleaning\">Data cleaning</a></h4>\n",
    "<ol style=\"color:black\">\n",
    "<h5 style=\"color:black; font-weight:600;\">Quality problems</h5>\n",
    "<li><a href=\"#answer_1\">Column names are not descriptive (image predictions)</a></li>\n",
    "<li><a href=\"#answer_2\">The column img_num is useless (image predictions)</a></li>\n",
    "<li><a href=\"#answer_3\">Dog names do not start with capital letters (image predictions)</a></li>\n",
    "<li><a href=\"#answer_4\">All coordinates data are null (tweet JSON)</a></li>\n",
    "<li><a href=\"#answer_5\">Tweet_source column contain HTML code (tweet JSON)</a></li>\n",
    "<li><a href=\"#answer_6\">Some columns are not useful (tweet JSON)</a></li>\n",
    "<li><a href=\"#answer_7\">Tweet date is not at good format (tweet JSON)</a></li>\n",
    "<li><a href=\"#answer_8\">They are many null data and retweets that are not ratings (tweet archive)</a></li>\n",
    "<li><a href=\"#answer_9\">Columns names do not start with capital letters (tweet archive)</a></li>\n",
    "<li><a href=\"#answer_10\">Tweet_source column contain HTML code (tweet archive)</a></li>\n",
    "<li><a href=\"#answer_11\">Timestamp is not at good format (tweet archive)</a></li>\n",
    "<h5 style=\"color:black; font-weight:600;\">Tidiness problems</h5>\n",
    "<li><a href=\"#answer_12\">Doggo, Floofer, Pooper, and Puppo columns can be converted into one column (tweet archive)</a></li>\n",
    "<li><a href=\"#answer_13\">The 3 tables are part of the same dataset and  must be merged</a></li>\n",
    "</ol>"
   ]
  },
  {
   "cell_type": "markdown",
   "metadata": {},
   "source": [
    "<br /><br /><br /><br /><br /><br /><br />\n",
    "<hr /><hr />\n",
    "<h1 style=\"color:black; font-style:italic; font-weight:500;\" id=\"gathering\">Gathering data</h1>\n",
    "<hr /><hr />\n",
    "<br /><br /><br />"
   ]
  },
  {
   "cell_type": "markdown",
   "metadata": {},
   "source": [
    "<hr />\n",
    "<br />\n",
    "<h3 style=\"color:black; font-style:italic; font-weight:300;\" id=\"gathering_img_pred\">Gathering image predictions file</h3>"
   ]
  },
  {
   "cell_type": "code",
   "execution_count": null,
   "metadata": {},
   "outputs": [],
   "source": [
    "# Creating forlder\n",
    "folder_name = 'tweeter_project_data'\n",
    "if not os.path.exists(folder_name):\n",
    "    os.makedirs(folder_name)"
   ]
  },
  {
   "cell_type": "code",
   "execution_count": null,
   "metadata": {},
   "outputs": [],
   "source": [
    "# Gathering image_prediction\n",
    "url = 'https://d17h27t6h515a5.cloudfront.net/topher/2017/August/599fd2ad_image-predictions/image-predictions.tsv'\n",
    "response = requests.get(url)\n",
    "with open(os.path.join(folder_name,url.split('/')[-1]),mode='wb') as file:\n",
    "    file.write(response.content)\n",
    "os.listdir(folder_name)\n",
    "\n",
    "df_images_predictions = pd.read_csv('./tweeter_project_data/image-predictions.tsv', sep='\\t')\n",
    "df_images_predictions.sample(5)"
   ]
  },
  {
   "cell_type": "markdown",
   "metadata": {},
   "source": [
    "<hr />\n",
    "<br />\n",
    "<h3 style=\"color:black; font-style:italic; font-weight:300;\" id=\"gathering_tweet_archive\">Gathering tweet archive file</h3>"
   ]
  },
  {
   "cell_type": "code",
   "execution_count": null,
   "metadata": {},
   "outputs": [],
   "source": [
    "# Wrangling twitter-archive-enhanced.csv\n",
    "df_tweet_archive = pd.read_csv('./tweeter_project_data/twitter-archive-enhanced.csv')\n",
    "df_tweet_archive.sample(5)"
   ]
  },
  {
   "cell_type": "markdown",
   "metadata": {},
   "source": [
    "<hr />\n",
    "<br />\n",
    "<h3 style=\"color:black; font-style:italic; font-weight:300;\" id=\"gathering_tweet_json\">Gathering tweet JSON file</h3>"
   ]
  },
  {
   "cell_type": "code",
   "execution_count": null,
   "metadata": {},
   "outputs": [],
   "source": [
    "# Gathering tweet_json.txt\n",
    "\n",
    "import tweepy\n",
    "from tweepy import OAuthHandler\n",
    "import json\n",
    "from timeit import default_timer as timer\n",
    "\n",
    "# Query Twitter API for each tweet in the Twitter archive and save JSON in a text file\n",
    "# These are hidden to comply with Twitter's API terms and conditions\n",
    "consumer_key = '...'\n",
    "consumer_secret = '...'\n",
    "access_token = '...'\n",
    "access_secret = '...'\n",
    "\n",
    "auth = OAuthHandler(consumer_key, consumer_secret)\n",
    "auth.set_access_token(access_token, access_secret)\n",
    "\n",
    "api = tweepy.API(auth, wait_on_rate_limit=True)\n",
    "\n",
    "# NOTE TO STUDENT WITH MOBILE VERIFICATION ISSUES:\n",
    "# df_1 is a DataFrame with the twitter_archive_enhanced.csv file. You may have to\n",
    "# change line 17 to match the name of your DataFrame with twitter_archive_enhanced.csv\n",
    "# NOTE TO REVIEWER: this student had mobile verification issues so the following\n",
    "# Twitter API code was sent to this student from a Udacity instructor\n",
    "# Tweet IDs for which to gather additional data via Twitter's API\n",
    "tweet_ids = df_tweet_archive.tweet_id.values\n",
    "len(tweet_ids)\n",
    "\n",
    "# Query Twitter's API for JSON data for each tweet ID in the Twitter archive\n",
    "count = 0\n",
    "fails_dict = {}\n",
    "start = timer()\n",
    "# Save each tweet's returned JSON as a new line in a .txt file\n",
    "with open('./tweeter_project_data/tweet_json.txt', 'w') as outfile:\n",
    "    # This loop will likely take 20-30 minutes to run because of Twitter's rate limit\n",
    "    for tweet_id in tweet_ids:\n",
    "        count += 1\n",
    "        print(str(count) + \": \" + str(tweet_id))\n",
    "        try:\n",
    "            tweet = api.get_status(tweet_id, tweet_mode='extended')\n",
    "            print(\"Success\")\n",
    "            json.dump(tweet._json, outfile)\n",
    "            outfile.write('\\n')\n",
    "        except tweepy.TweepError as e:\n",
    "            print(\"Fail\")\n",
    "            fails_dict[tweet_id] = e\n",
    "            pass\n",
    "end = timer()\n",
    "print(end - start)\n",
    "print(fails_dict)"
   ]
  },
  {
   "cell_type": "code",
   "execution_count": null,
   "metadata": {},
   "outputs": [],
   "source": [
    "with open('./tweeter_project_data/tweet_json.txt') as file:\n",
    "    df_tweet_json = pd.DataFrame((json.loads(line) for line in file), columns = ['id', 'id_str', 'favorite_count', 'retweet_count', 'source', 'lang', 'created_at', 'coordinates'])\n",
    "df_tweet_json.columns = ['Tweet_id', 'Tweet_id_str', 'Favorites', 'Retweets', 'Tweet_source', 'Language', 'Tweet_date', 'Coordinates']\n",
    "#df_api.set_index('tweet_id', inplace = True)\n",
    "df_tweet_json.sample(5)"
   ]
  },
  {
   "cell_type": "markdown",
   "metadata": {},
   "source": [
    "<br /><br /><br /><br /><br /><br /><br />\n",
    "<hr /><hr />\n",
    "<h1 style=\"color:black; font-style:italic; font-weight:500;\" id=\"assessment\">Accessing Data</h1>\n",
    "<hr /><hr />\n",
    "<br /><br /><br />"
   ]
  },
  {
   "cell_type": "markdown",
   "metadata": {},
   "source": [
    "<h2 style=\"color:black; font-style:italic; font-weight:400;\">Image-predictions</h2>\n",
    "<hr />\n",
    "<h3 style=\"color:black; font-style:italic; font-weight:300;\">Let's find the problems about this dataset</h3>\n",
    "<br />"
   ]
  },
  {
   "cell_type": "code",
   "execution_count": null,
   "metadata": {},
   "outputs": [],
   "source": [
    "df_images_predictions.sample(5)"
   ]
  },
  {
   "cell_type": "code",
   "execution_count": null,
   "metadata": {},
   "outputs": [],
   "source": [
    "df_images_predictions.shape"
   ]
  },
  {
   "cell_type": "code",
   "execution_count": null,
   "metadata": {},
   "outputs": [],
   "source": [
    "df_images_predictions.info()"
   ]
  },
  {
   "cell_type": "code",
   "execution_count": null,
   "metadata": {},
   "outputs": [],
   "source": [
    "df_images_predictions.describe()"
   ]
  },
  {
   "cell_type": "markdown",
   "metadata": {},
   "source": [
    "<h4 style=\"color:black; font-weight:600;\" id=\"question_1\">1-) Column names are not descriptive</h4>\n",
    "<p>Column names do not allow you to know what data each column contains. <br> It will be necessary to rename the columns so that they are more explicit.</p>"
   ]
  },
  {
   "cell_type": "code",
   "execution_count": null,
   "metadata": {},
   "outputs": [],
   "source": [
    "df_images_predictions.columns.tolist()"
   ]
  },
  {
   "cell_type": "markdown",
   "metadata": {},
   "source": [
    "<h4 style=\"color:black; font-weight:600;\" id=\"question_2\">2-) The column img_num is useless</h4>\n",
    "<p>The column img_num doesn't give useful information. <br /> It ought to be removed.</p>"
   ]
  },
  {
   "cell_type": "code",
   "execution_count": null,
   "metadata": {},
   "outputs": [],
   "source": [
    "df_images_predictions.img_num.unique().tolist()"
   ]
  },
  {
   "cell_type": "markdown",
   "metadata": {},
   "source": [
    "<h4 style=\"color:black; font-weight:600;\" id=\"question_3\">3-) Dog names do not start with capital letters</h4>\n",
    "<ul style=\"color:black\">\n",
    "<li>malinois instead of Malinois</li>\n",
    "<li>etc.</li>\n",
    "</ul>"
   ]
  },
  {
   "cell_type": "code",
   "execution_count": null,
   "metadata": {},
   "outputs": [],
   "source": [
    "df_images_predictions.p2.unique().tolist()"
   ]
  },
  {
   "cell_type": "markdown",
   "metadata": {},
   "source": [
    "<br />\n",
    "<h2 style=\"color:black; font-style:italic; font-weight:400;\">Tweet Json</h2>\n",
    "<hr />\n",
    "<h3 style=\"color:black; font-style:italic; font-weight:300;\">Let's find the problems about this dataset</h3>\n",
    "<br />"
   ]
  },
  {
   "cell_type": "code",
   "execution_count": null,
   "metadata": {},
   "outputs": [],
   "source": [
    "df_tweet_json.sample(5)"
   ]
  },
  {
   "cell_type": "code",
   "execution_count": null,
   "metadata": {},
   "outputs": [],
   "source": [
    "df_tweet_json.info()"
   ]
  },
  {
   "cell_type": "markdown",
   "metadata": {},
   "source": [
    "<h4 style=\"color:black; font-weight:600;\" id=\"question_4\">4-) All coordinates data are null</h4>\n",
    "<p>The coordinates data are all null. <br> Because of the column useless, this column has to be removed.</p>"
   ]
  },
  {
   "cell_type": "code",
   "execution_count": null,
   "metadata": {},
   "outputs": [],
   "source": [
    "df_tweet_json.Coordinates.notnull().sum()"
   ]
  },
  {
   "cell_type": "markdown",
   "metadata": {},
   "source": [
    "<h4 style=\"color:black; font-weight:600;\" id=\"question_5\">5-) Tweet_source column contain HTML code</h4>\n",
    "<p>The column Tweet_source tell us about the source of the tweet.<br /> But this column come with HTML tag. <br> It will be nice to just get the string inside the html tag.</>"
   ]
  },
  {
   "cell_type": "code",
   "execution_count": null,
   "metadata": {},
   "outputs": [],
   "source": [
    "df_tweet_json.Tweet_source.unique().tolist()"
   ]
  },
  {
   "cell_type": "markdown",
   "metadata": {},
   "source": [
    "<h4 style=\"color:black; font-weight:600;\" id=\"question_6\">6-) Some columns are not useful</h4>\n",
    "<p>The column Tweet_id and Tweet_id_str give us the same but in diferent format.</br> So, we can just have on column instead of two.</p>"
   ]
  },
  {
   "cell_type": "code",
   "execution_count": null,
   "metadata": {},
   "outputs": [],
   "source": [
    "df_tweet_json[['Tweet_id','Tweet_id_str']].sample(5)"
   ]
  },
  {
   "cell_type": "markdown",
   "metadata": {},
   "source": [
    "<h4 style=\"color:black; font-weight:600;\" id=\"question_7\">7-) Tweet date is not at good format</h4>\n",
    "<p>The column Tweet_date must be in date format, but it come with object form. </br> It will be better to turn it into date format.</p>"
   ]
  },
  {
   "cell_type": "code",
   "execution_count": null,
   "metadata": {},
   "outputs": [],
   "source": [
    "df_tweet_json.Tweet_date.info()"
   ]
  },
  {
   "cell_type": "markdown",
   "metadata": {},
   "source": [
    "<br />\n",
    "<h2 style=\"color:black; font-style:italic; font-weight:400;\">Tweet Archive</h2>\n",
    "<hr />\n",
    "<h3 style=\"color:black; font-style:italic; font-weight:300;\">Let's find the problems about this dataset</h3>\n",
    "<br />"
   ]
  },
  {
   "cell_type": "code",
   "execution_count": null,
   "metadata": {},
   "outputs": [],
   "source": [
    "df_tweet_archive.info()"
   ]
  },
  {
   "cell_type": "code",
   "execution_count": null,
   "metadata": {},
   "outputs": [],
   "source": [
    "df_tweet_archive.sample(5)"
   ]
  },
  {
   "cell_type": "markdown",
   "metadata": {},
   "source": [
    "<h4 style=\"color:black; font-weight:600;\" id=\"question_8\">8-) They are many null data and retweets that are not ratings</h4>\n",
    "<p>The dataset contain many undifined data</p>"
   ]
  },
  {
   "cell_type": "code",
   "execution_count": null,
   "metadata": {},
   "outputs": [],
   "source": [
    "df_tweet_archive.isna().sum()"
   ]
  },
  {
   "cell_type": "markdown",
   "metadata": {},
   "source": [
    "<h4 style=\"color:black; font-weight:600;\" id=\"question_9\">9-) Columns names do not start with capital letters</h4>"
   ]
  },
  {
   "cell_type": "code",
   "execution_count": null,
   "metadata": {},
   "outputs": [],
   "source": [
    "df_tweet_archive.columns.tolist()"
   ]
  },
  {
   "cell_type": "markdown",
   "metadata": {},
   "source": [
    "<h4 style=\"color:black; font-weight:600;\" id=\"question_10\">10-) Tweet_source column contain HTML code</h4>\n",
    "<p>The column source tell us about the source of the tweet.<br /> But this column come with HTML tag. <br> It will be nice to just get the string inside the html tag.</>"
   ]
  },
  {
   "cell_type": "code",
   "execution_count": null,
   "metadata": {},
   "outputs": [],
   "source": [
    "df_tweet_archive.source.sample(5).unique()"
   ]
  },
  {
   "cell_type": "markdown",
   "metadata": {},
   "source": [
    "<h4 style=\"color:black; font-weight:600;\" id=\"question_11\">11-) Timestamp is not at good format</h4>\n",
    "<p>The column Timestamp must be in date format, but it come with object form. </br> It will be better to turn it into date format.</p>"
   ]
  },
  {
   "cell_type": "code",
   "execution_count": null,
   "metadata": {},
   "outputs": [],
   "source": [
    "df_tweet_archive.timestamp.info()"
   ]
  },
  {
   "cell_type": "markdown",
   "metadata": {},
   "source": [
    "<h4 style=\"color:black; font-weight:600;\" id=\"question_12\">12-) Doggo, Floofer, Pooper, and Puppo columns can be converted into one column</h4>"
   ]
  },
  {
   "cell_type": "code",
   "execution_count": null,
   "metadata": {},
   "outputs": [],
   "source": [
    "print(df_tweet_archive.doggo.unique())\n",
    "print(df_tweet_archive.floofer.unique())\n",
    "print(df_tweet_archive.pupper.unique())\n",
    "print(df_tweet_archive.puppo.unique())"
   ]
  },
  {
   "cell_type": "markdown",
   "metadata": {},
   "source": [
    "<br />\n",
    "<h2 style=\"color:black; font-style:italic; font-weight:400;\">About all dataset</h2>\n",
    "<hr />\n",
    "<h3 style=\"color:black; font-style:italic; font-weight:300;\">Let's find the problems about this dataset</h3>\n",
    "<br />"
   ]
  },
  {
   "cell_type": "markdown",
   "metadata": {},
   "source": [
    "<h4 style=\"color:black; font-weight:600;\" id=\"question_13\">13-) The 3 tables are part of the same dataset and  must be merged</h4>"
   ]
  },
  {
   "cell_type": "code",
   "execution_count": null,
   "metadata": {},
   "outputs": [],
   "source": [
    "print('The length of df_images_predictions is:',len(df_images_predictions))\n",
    "print('The length of df_tweet_json is:',len(df_tweet_json))\n",
    "print('The length of df_tweet_archive is:',len(df_tweet_archive))"
   ]
  },
  {
   "cell_type": "markdown",
   "metadata": {},
   "source": [
    "<h4 style=\"color:black; font-weight:600;\"><a href=\"#cleaning\">These are all problem detected</a></h4>\n",
    "<ol style=\"color:black\">\n",
    "<li><a href=\"#answer_1\">Column names are not descriptive (image predictions)</a></li>\n",
    "<li><a href=\"#answer_2\">The column img_num is useless (image predictions)</a></li>\n",
    "<li><a href=\"#answer_3\">Dog names do not start with capital letters (image predictions)</a></li>\n",
    "<li><a href=\"#answer_4\">All coordinates data are null (tweet JSON)</a></li>\n",
    "<li><a href=\"#answer_5\">Tweet_source column contain HTML code (tweet JSON)</a></li>\n",
    "<li><a href=\"#answer_6\">Some columns are not useful (tweet JSON)</a></li>\n",
    "<li><a href=\"#answer_7\">Tweet date is not at good format (tweet JSON)</a></li>\n",
    "<li><a href=\"#answer_8\">They are many null data and retweets that are not ratings (tweet archive)</a></li>\n",
    "<li><a href=\"#answer_9\">Columns names do not start with capital letters (tweet archive)</a></li>\n",
    "<li><a href=\"#answer_10\">Tweet_source column contain HTML code (tweet archive)</a></li>\n",
    "<li><a href=\"#answer_11\">Timestamp is not at good format (tweet archive)</a></li>\n",
    "<li><a href=\"#answer_12\">Doggo, Floofer, Pooper, and Puppo columns can be converted to boolean values (tweet archive)</a></li>\n",
    "<li><a href=\"#answer_13\">The 3 tables are part of the same dataset and  must be merged</a></li>\n",
    "</ol>"
   ]
  },
  {
   "cell_type": "markdown",
   "metadata": {},
   "source": [
    "<br /><br /><br /><br /><br /><br /><br />\n",
    "<hr /><hr /><hr />\n",
    "<h1 style=\"color:black; font-style:italic; font-weight:500;\" id=\"cleaning\">Cleaning Data</h1>\n",
    "<hr /><hr /><hr />\n",
    "<br /><br /><br />"
   ]
  },
  {
   "cell_type": "markdown",
   "metadata": {},
   "source": [
    "<h2 style=\"color:black; font-style:italic; font-weight:400;\" id=\"cleaning_img_pred\">Image-predictions</h2>\n",
    "<hr />\n",
    "<h3 style=\"color:black; font-style:italic; font-weight:300;\">Let's resolve the problems about this dataset</h3>\n",
    "<br />"
   ]
  },
  {
   "cell_type": "code",
   "execution_count": null,
   "metadata": {},
   "outputs": [],
   "source": [
    "#Let copy the dataframe\n",
    "new_df_images_predictions = df_images_predictions.copy()\n",
    "new_df_images_predictions.sample(5)"
   ]
  },
  {
   "cell_type": "markdown",
   "metadata": {},
   "source": [
    "<h4 style=\"color:black; font-weight:600;\" id=\"answer_1\">1-) Column names are not descriptive</h4>"
   ]
  },
  {
   "cell_type": "markdown",
   "metadata": {},
   "source": [
    "<p><b>Define</b></p>\n",
    "<p>We will rename the column names to be more explicit.</p>"
   ]
  },
  {
   "cell_type": "markdown",
   "metadata": {},
   "source": [
    "<p><b>Code</b></p>"
   ]
  },
  {
   "cell_type": "code",
   "execution_count": null,
   "metadata": {},
   "outputs": [],
   "source": [
    "#Cleaning\n",
    "new_df_images_predictions.rename(columns={'tweet_id':'Tweet_id','jpg_url':'Image_link','img_num':'Image_number', 'p1':'First_prediction','p1_conf':'First_prediction_reliability','p1_dog':'First_prediction_truthfulness','p2':'Second_prediction','p2_conf':'Second_prediction_reliability','p2_dog':'Second_prediction_truthfulness','p3':'Third_prediction','p3_conf':'Third_prediction_reliability','p3_dog':'Third_prediction_truthfulness'}, inplace=True)"
   ]
  },
  {
   "cell_type": "markdown",
   "metadata": {},
   "source": [
    "<p><b>Test</b></p>"
   ]
  },
  {
   "cell_type": "code",
   "execution_count": null,
   "metadata": {},
   "outputs": [],
   "source": [
    "#Test\n",
    "new_df_images_predictions.columns.tolist()"
   ]
  },
  {
   "cell_type": "markdown",
   "metadata": {},
   "source": [
    "<h4 style=\"color:black; font-weight:600;\" id=\"answer_2\">2-) The column Image_Number is useless</h4>"
   ]
  },
  {
   "cell_type": "markdown",
   "metadata": {},
   "source": [
    "<p><b>Define</b></p>\n",
    "<p>Let create a function that remove a dataframe's column</p>"
   ]
  },
  {
   "cell_type": "markdown",
   "metadata": {},
   "source": [
    "<p><b>Code</b></p>"
   ]
  },
  {
   "cell_type": "code",
   "execution_count": null,
   "metadata": {},
   "outputs": [],
   "source": [
    "#Cleaning\n",
    "\n",
    "def drop_column(dataframe,column):\n",
    "    return dataframe.drop([column],axis=1,inplace=True)\n",
    "\n",
    "#Let drop the column Image_number from our dataset\n",
    "drop_column(new_df_images_predictions,'Image_number')"
   ]
  },
  {
   "cell_type": "markdown",
   "metadata": {},
   "source": [
    "<p><b>Test</b></p>"
   ]
  },
  {
   "cell_type": "code",
   "execution_count": null,
   "metadata": {},
   "outputs": [],
   "source": [
    "#Test\n",
    "if('Image_number' not in new_df_images_predictions.columns.tolist()):\n",
    "    print(\"The column Image_number doesn't exist\")"
   ]
  },
  {
   "cell_type": "markdown",
   "metadata": {},
   "source": [
    "<h4 style=\"color:black; font-weight:600;\" id=\"answer_3\">3-) Dog name do not start with capital letters</h4>"
   ]
  },
  {
   "cell_type": "markdown",
   "metadata": {},
   "source": [
    "<p><b>Define</b></p>\n",
    "<p>Let create a function to capitalize the fisrt letter of each row of a column</p>"
   ]
  },
  {
   "cell_type": "markdown",
   "metadata": {},
   "source": [
    "<p><b>Cleaning</b></p>"
   ]
  },
  {
   "cell_type": "code",
   "execution_count": null,
   "metadata": {},
   "outputs": [],
   "source": [
    "#Cleaning\n",
    "\n",
    "def capital(dog_name):\n",
    "    return dog_name.capitalize()\n",
    "\n",
    "#Let create an array that contain the names of the column that we want to capitalize each row string\n",
    "predictions = ['First_prediction','Second_prediction','Third_prediction']\n",
    "\n",
    "#Let make a for loop to do the capitalize action quickly\n",
    "for prediction in predictions:\n",
    "    new_df_images_predictions[prediction] = new_df_images_predictions[prediction].apply(lambda x: capital(x))"
   ]
  },
  {
   "cell_type": "markdown",
   "metadata": {},
   "source": [
    "<p><b>Test</b></p>"
   ]
  },
  {
   "cell_type": "code",
   "execution_count": null,
   "metadata": {},
   "outputs": [],
   "source": [
    "new_df_images_predictions[['First_prediction','Second_prediction','Third_prediction']].sample(5)"
   ]
  },
  {
   "cell_type": "markdown",
   "metadata": {},
   "source": [
    "<br />\n",
    "<h2 style=\"color:black; font-style:italic; font-weight:400;\">Tweet Json</h2>\n",
    "<hr />\n",
    "<h3 style=\"color:black; font-style:italic; font-weight:300;\">Let's resolve the problems about this dataset</h3>\n",
    "<br />"
   ]
  },
  {
   "cell_type": "code",
   "execution_count": null,
   "metadata": {},
   "outputs": [],
   "source": [
    "#Let copy the dataframe\n",
    "new_df_tweet_json = df_tweet_json.copy()\n",
    "new_df_tweet_json.sample(5)"
   ]
  },
  {
   "cell_type": "markdown",
   "metadata": {},
   "source": [
    "<h4 style=\"color:black; font-weight:600;\" id=\"answer_4\">4-) All coordinates data are null</h4>"
   ]
  },
  {
   "cell_type": "markdown",
   "metadata": {},
   "source": [
    "<p><b>Define</b></p>\n",
    "<p>Coordinate data are useless. So, we will drop this column</p>"
   ]
  },
  {
   "cell_type": "markdown",
   "metadata": {},
   "source": [
    "<p><b>Cleaning</b></p>"
   ]
  },
  {
   "cell_type": "code",
   "execution_count": null,
   "metadata": {},
   "outputs": [],
   "source": [
    "#Cleaning\n",
    "\n",
    "drop_column(new_df_tweet_json, 'Coordinates')"
   ]
  },
  {
   "cell_type": "markdown",
   "metadata": {},
   "source": [
    "<p><b>Test</b></p>"
   ]
  },
  {
   "cell_type": "code",
   "execution_count": null,
   "metadata": {},
   "outputs": [],
   "source": [
    "#Test\n",
    "\n",
    "def check_col(table,name):\n",
    "    if name in table.columns:\n",
    "        print(name,\" exixt in this table\")\n",
    "    else:\n",
    "        print(name,\" doesn't exixt  in this table\")\n",
    "\n",
    "check_col(new_df_tweet_json,'Coordinates')"
   ]
  },
  {
   "cell_type": "markdown",
   "metadata": {},
   "source": [
    "<h4 style=\"color:black; font-weight:600;\" id=\"answer_5\">5-) Tweet_source column contain HTML code</h4>"
   ]
  },
  {
   "cell_type": "markdown",
   "metadata": {},
   "source": [
    "<p><b>Define</b></p>\n",
    "<p>Let remove html tag from tweet_source</p>"
   ]
  },
  {
   "cell_type": "markdown",
   "metadata": {},
   "source": [
    "<p><b>Cleaning</b></p>"
   ]
  },
  {
   "cell_type": "code",
   "execution_count": null,
   "metadata": {},
   "outputs": [],
   "source": [
    "#Cleaning\n",
    "\n",
    "#Let create a function that will remove html tag from string \n",
    "def remove_tags(Tweet_source):\n",
    "    return re.sub('<.*?>','',Tweet_source)\n",
    "\n",
    "new_df_tweet_json.Tweet_source = new_df_tweet_json.Tweet_source.apply(lambda x: remove_tags(x))"
   ]
  },
  {
   "cell_type": "markdown",
   "metadata": {},
   "source": [
    "<p><b>Test</b></p>"
   ]
  },
  {
   "cell_type": "code",
   "execution_count": null,
   "metadata": {},
   "outputs": [],
   "source": [
    "#Test\n",
    "\n",
    "new_df_tweet_json.Tweet_source.unique()"
   ]
  },
  {
   "cell_type": "markdown",
   "metadata": {},
   "source": [
    "<h4 style=\"color:black; font-weight:600;\" id=\"answer_6\">6-) Some columns are not useful</h4>"
   ]
  },
  {
   "cell_type": "markdown",
   "metadata": {},
   "source": [
    "<p><b>Define</b></p>\n",
    "<p>The column Tweet_id and Tweet_id_str give us the same but in diferent format.</br> So, we can just have on column instead of two.</p>"
   ]
  },
  {
   "cell_type": "markdown",
   "metadata": {},
   "source": [
    "<p><b>Cleaning</b></p>"
   ]
  },
  {
   "cell_type": "code",
   "execution_count": null,
   "metadata": {},
   "outputs": [],
   "source": [
    "#Cleaning\n",
    "\n",
    "drop_column(new_df_tweet_json,'Tweet_id_str')"
   ]
  },
  {
   "cell_type": "markdown",
   "metadata": {},
   "source": [
    "<p><b>Test</b></p>"
   ]
  },
  {
   "cell_type": "code",
   "execution_count": null,
   "metadata": {},
   "outputs": [],
   "source": [
    "#Test\n",
    "\n",
    "check_col(new_df_tweet_json,'Tweet_id_str')"
   ]
  },
  {
   "cell_type": "markdown",
   "metadata": {},
   "source": [
    "<h4 style=\"color:black; font-weight:600;\" id=\"answer_7\">7-) Tweet date is not at good format</h4>"
   ]
  },
  {
   "cell_type": "markdown",
   "metadata": {},
   "source": [
    "<p><b>Define</b></p>\n",
    "<p>The column Tweet_date must be in date format, but it come with object form. </br> It will be better to turn it into date format.</p>"
   ]
  },
  {
   "cell_type": "markdown",
   "metadata": {},
   "source": [
    "<p><b>Cleaning</b></p>"
   ]
  },
  {
   "cell_type": "code",
   "execution_count": null,
   "metadata": {},
   "outputs": [],
   "source": [
    "#Cleaning\n",
    "\n",
    "new_df_tweet_json.Tweet_date = pd.to_datetime(new_df_tweet_json.Tweet_date)"
   ]
  },
  {
   "cell_type": "markdown",
   "metadata": {},
   "source": [
    "<p><b>Test</b></p>"
   ]
  },
  {
   "cell_type": "code",
   "execution_count": null,
   "metadata": {},
   "outputs": [],
   "source": [
    "#Test\n",
    "\n",
    "new_df_tweet_json.Tweet_date.info()"
   ]
  },
  {
   "cell_type": "markdown",
   "metadata": {},
   "source": [
    "<br />\n",
    "<h2 style=\"color:black; font-style:italic; font-weight:400;\">Tweet Archive</h2>\n",
    "<hr />\n",
    "<h3 style=\"color:black; font-style:italic; font-weight:300;\">Let's resolve the problems about this dataset</h3>\n",
    "<br />"
   ]
  },
  {
   "cell_type": "code",
   "execution_count": null,
   "metadata": {},
   "outputs": [],
   "source": [
    "#Let copy the dataframe\n",
    "new_df_tweet_archive = df_tweet_archive.copy()\n",
    "new_df_tweet_archive.sample(3)"
   ]
  },
  {
   "cell_type": "markdown",
   "metadata": {},
   "source": [
    "<h4 style=\"color:black; font-weight:600;\" id=\"answer_8\">8-) They are many null data and retweets that are not ratings</h4>"
   ]
  },
  {
   "cell_type": "markdown",
   "metadata": {},
   "source": [
    "<p><b>Define</b></p>\n",
    "<p>The dataset contain many undifined data</p>\n",
    "<p>We are going to delete retweets rows and after useless columns</p>"
   ]
  },
  {
   "cell_type": "markdown",
   "metadata": {},
   "source": [
    "<p><b>Cleaning</b></p>"
   ]
  },
  {
   "cell_type": "code",
   "execution_count": null,
   "metadata": {},
   "outputs": [],
   "source": [
    "def dropNullRow(table,columns):\n",
    "    for column in columns:\n",
    "        table.drop(table[table[column].notnull()].index, inplace=True)\n",
    "\n",
    "dropNullRow(new_df_tweet_archive,['retweeted_status_id','in_reply_to_status_id','in_reply_to_user_id'])\n",
    "new_df_tweet_archive.info()"
   ]
  },
  {
   "cell_type": "code",
   "execution_count": null,
   "metadata": {},
   "outputs": [],
   "source": [
    "#Cleaning\n",
    "\n",
    "#Let delete useless column\n",
    "drop_column(new_df_tweet_archive,'in_reply_to_status_id')\n",
    "drop_column(new_df_tweet_archive,'in_reply_to_user_id')\n",
    "drop_column(new_df_tweet_archive,'retweeted_status_id')\n",
    "drop_column(new_df_tweet_archive,'retweeted_status_user_id')\n",
    "drop_column(new_df_tweet_archive,'retweeted_status_timestamp')\n",
    "drop_column(new_df_tweet_archive,'expanded_urls')"
   ]
  },
  {
   "cell_type": "markdown",
   "metadata": {},
   "source": [
    "<p><b>Test</b></p>"
   ]
  },
  {
   "cell_type": "code",
   "execution_count": null,
   "metadata": {},
   "outputs": [],
   "source": [
    "#Test\n",
    "\n",
    "check_col(new_df_tweet_archive,'in_reply_to_status_id')\n",
    "check_col(new_df_tweet_archive,'in_reply_to_user_id')\n",
    "check_col(new_df_tweet_archive,'retweeted_status_id')\n",
    "check_col(new_df_tweet_archive,'retweeted_status_user_id')\n",
    "check_col(new_df_tweet_archive,'retweeted_status_timestamp')\n",
    "check_col(new_df_tweet_archive,'expanded_urls')"
   ]
  },
  {
   "cell_type": "markdown",
   "metadata": {},
   "source": [
    "<h4 style=\"color:black; font-weight:600;\" id=\"answer_9\">9-) Columns names do not start with capital letters</h4>"
   ]
  },
  {
   "cell_type": "markdown",
   "metadata": {},
   "source": [
    "<p><b>Define</b></p>\n",
    "<p>The dataset's column name do not start with capital letter</p>"
   ]
  },
  {
   "cell_type": "markdown",
   "metadata": {},
   "source": [
    "<p><b>Cleaning</b></p>"
   ]
  },
  {
   "cell_type": "code",
   "execution_count": null,
   "metadata": {},
   "outputs": [],
   "source": [
    "#Cleaning\n",
    "\n",
    "new_df_tweet_archive.rename(columns={'tweet_id':'Tweet_id','timestamp':'Timestamp','source':'Tweet_source', 'text':'Tweet_text','rating_numerator':'Rating_numerator','rating_denominator':'Rating_denominator','name':'Dog_name','doggo':'Is_doggo','floofer':'Is_floofer','pupper':'Is_pupper','puppo':'Is_puppo'}, inplace=True)\n",
    "new_df_tweet_archive.sample(5)"
   ]
  },
  {
   "cell_type": "markdown",
   "metadata": {},
   "source": [
    "<p><b>Test</b></p>"
   ]
  },
  {
   "cell_type": "code",
   "execution_count": null,
   "metadata": {},
   "outputs": [],
   "source": [
    "#Test\n",
    "\n",
    "new_df_tweet_archive.columns.tolist()"
   ]
  },
  {
   "cell_type": "markdown",
   "metadata": {},
   "source": [
    "<h4 style=\"color:black; font-weight:600;\" id=\"answer_10\">10-) Tweet_source column contain HTML code</h4>"
   ]
  },
  {
   "cell_type": "markdown",
   "metadata": {},
   "source": [
    "<p><b>Define</b></p>\n",
    "<p>The column source tell us about the source of the tweet.<br /> But this column come with HTML tag. <br> It will be nice to just get the string inside the html tag.</>"
   ]
  },
  {
   "cell_type": "markdown",
   "metadata": {},
   "source": [
    "<p><b>Cleaning</b></p>"
   ]
  },
  {
   "cell_type": "code",
   "execution_count": null,
   "metadata": {},
   "outputs": [],
   "source": [
    "#Cleaning\n",
    "\n",
    "#Let remove html tag from string\n",
    "new_df_tweet_archive.Tweet_source = new_df_tweet_archive.Tweet_source.apply(lambda x: remove_tags(x))"
   ]
  },
  {
   "cell_type": "markdown",
   "metadata": {},
   "source": [
    "<p><b>Test</b></p>"
   ]
  },
  {
   "cell_type": "code",
   "execution_count": null,
   "metadata": {},
   "outputs": [],
   "source": [
    "#Test\n",
    "\n",
    "new_df_tweet_archive.Tweet_source.unique()"
   ]
  },
  {
   "cell_type": "markdown",
   "metadata": {},
   "source": [
    "<h4 style=\"color:black; font-weight:600;\" id=\"answer_11\">11-) Timestamp is not at good format</h4>"
   ]
  },
  {
   "cell_type": "markdown",
   "metadata": {},
   "source": [
    "<p><b>Define</b></p>\n",
    "<p>The column Timestamp must be in date format, but it come with object form. </br> It will be better to turn it into date format.</p>"
   ]
  },
  {
   "cell_type": "markdown",
   "metadata": {},
   "source": [
    "<p><b>Cleaning</b></p>"
   ]
  },
  {
   "cell_type": "code",
   "execution_count": null,
   "metadata": {},
   "outputs": [],
   "source": [
    "#Cleaning\n",
    "\n",
    "#Let convert Tweet_date to date format\n",
    "new_df_tweet_archive.Timestamp = pd.to_datetime(new_df_tweet_archive.Timestamp)"
   ]
  },
  {
   "cell_type": "markdown",
   "metadata": {},
   "source": [
    "<p><b>Test</b></p>"
   ]
  },
  {
   "cell_type": "code",
   "execution_count": null,
   "metadata": {},
   "outputs": [],
   "source": [
    "#Test\n",
    "\n",
    "new_df_tweet_archive.Timestamp.info()"
   ]
  },
  {
   "cell_type": "markdown",
   "metadata": {},
   "source": [
    "<h4 style=\"color:black; font-weight:600;\" id=\"answer_12\">12-) Doggo, Floofer, Pooper, and Puppo can be converted into one column</h4>"
   ]
  },
  {
   "cell_type": "markdown",
   "metadata": {},
   "source": [
    "<p><b>Define</b></p>\n",
    "<p>The column Timestamp must be in date format, but it come with object form. </br> It will be better to turn it into date format.</p>"
   ]
  },
  {
   "cell_type": "markdown",
   "metadata": {},
   "source": [
    "<p><b>Cleaning</b></p>"
   ]
  },
  {
   "cell_type": "code",
   "execution_count": null,
   "metadata": {},
   "outputs": [],
   "source": [
    "def changeColumnValue(dataframe,column,old_value,new_value):\n",
    "    dataframe[column].replace(old_value,new_value, inplace=True)\n",
    "    return dataframe\n",
    "\n",
    "columns = ['Is_doggo','Is_floofer', 'Is_pupper', 'Is_puppo']\n",
    "for column in columns:\n",
    "    changeColumnValue(new_df_tweet_archive,column,'None',np.nan)\n",
    "\n",
    "new_df_tweet_archive['DogBreed'] = new_df_tweet_archive[['Is_doggo','Is_floofer','Is_pupper','Is_puppo']].apply(\n",
    "    lambda x: ','.join(x.dropna()),\n",
    "    axis=1\n",
    ")\n",
    "\n",
    "new_df_tweet_archive.drop(['Is_doggo','Is_floofer','Is_pupper','Is_puppo'], axis=1, inplace=True)\n",
    "changeColumnValue(new_df_tweet_archive,'DogBreed','','None')"
   ]
  },
  {
   "cell_type": "markdown",
   "metadata": {},
   "source": [
    "<p><b>Test</b></p>"
   ]
  },
  {
   "cell_type": "code",
   "execution_count": null,
   "metadata": {},
   "outputs": [],
   "source": [
    "\n",
    "new_df_tweet_archive.DogBreed.unique()"
   ]
  },
  {
   "cell_type": "markdown",
   "metadata": {},
   "source": [
    "<br />\n",
    "<h2 style=\"color:black; font-style:italic; font-weight:400;\">About all dataset</h2>\n",
    "<hr />\n",
    "<h3 style=\"color:black; font-style:italic; font-weight:300;\">Let's resolve the problems about this dataset</h3>\n",
    "<br />"
   ]
  },
  {
   "cell_type": "markdown",
   "metadata": {},
   "source": [
    "<h4 style=\"color:black; font-weight:600;\" id=\"answer_13\">13-) The 3 tables are part of the same dataset and  must be merged</h4>"
   ]
  },
  {
   "cell_type": "code",
   "execution_count": null,
   "metadata": {},
   "outputs": [],
   "source": [
    "print(len(new_df_images_predictions))\n",
    "print(len(new_df_tweet_json))\n",
    "print(len(new_df_tweet_archive))"
   ]
  },
  {
   "cell_type": "markdown",
   "metadata": {},
   "source": [
    "<p><b>Cleaning</b></p>"
   ]
  },
  {
   "cell_type": "code",
   "execution_count": null,
   "metadata": {},
   "outputs": [],
   "source": [
    "#Cleaning\n",
    "\n",
    "#Let's merge the tables with common value\n",
    "new_general_tweet_dataset = pd.merge(new_df_images_predictions,new_df_tweet_json,on='Tweet_id')\n",
    "new_general_tweet_dataset = pd.merge(new_general_tweet_dataset,new_df_tweet_archive,on='Tweet_id')\n",
    "new_general_tweet_dataset.sample(5)"
   ]
  },
  {
   "cell_type": "markdown",
   "metadata": {},
   "source": [
    "<p><b>Test</b></p>"
   ]
  },
  {
   "cell_type": "code",
   "execution_count": null,
   "metadata": {},
   "outputs": [],
   "source": [
    "#Test\n",
    "\n",
    "new_general_tweet_dataset.sample(5)"
   ]
  },
  {
   "cell_type": "code",
   "execution_count": null,
   "metadata": {},
   "outputs": [],
   "source": [
    "#Let store new dataset to csv file\n",
    "\n",
    "new_general_tweet_dataset.to_csv('twitter_archive_master.csv', index=False)"
   ]
  },
  {
   "cell_type": "markdown",
   "metadata": {},
   "source": [
    "<br /><br /><br /><br /><br /><br /><br />\n",
    "<hr /><hr /><hr />\n",
    "<h1 style=\"color:black; font-style:italic; font-weight:500;\">Data vizualisation</h1>\n",
    "<hr /><hr /><hr />\n",
    "<br /><br /><br />"
   ]
  },
  {
   "cell_type": "code",
   "execution_count": null,
   "metadata": {},
   "outputs": [],
   "source": [
    "new_general_tweet_dataset.columns.tolist()"
   ]
  },
  {
   "cell_type": "code",
   "execution_count": null,
   "metadata": {},
   "outputs": [],
   "source": [
    "new_general_tweet_dataset"
   ]
  },
  {
   "cell_type": "code",
   "execution_count": null,
   "metadata": {},
   "outputs": [],
   "source": [
    "new_general_tweet_dataset['Tweet_year'] = new_general_tweet_dataset['Tweet_date'].dt.year"
   ]
  },
  {
   "cell_type": "code",
   "execution_count": null,
   "metadata": {},
   "outputs": [],
   "source": [
    "year = new_general_tweet_dataset.Tweet_date"
   ]
  },
  {
   "cell_type": "markdown",
   "metadata": {},
   "source": [
    "<h4 style=\"color:black; font-weight:600;\">Let vizualize the number of retweet for each year</h4>"
   ]
  },
  {
   "cell_type": "code",
   "execution_count": null,
   "metadata": {},
   "outputs": [],
   "source": [
    "new_general_tweet_dataset.groupby('Tweet_year')['Retweets'].sum().plot.pie(legend = True)\n",
    "plt.title('Number of retweet for each year')"
   ]
  },
  {
   "cell_type": "markdown",
   "metadata": {},
   "source": [
    "<h4 style=\"color:black; font-weight:600;\">Let vizualize the number of favorite for each year</h4>"
   ]
  },
  {
   "cell_type": "code",
   "execution_count": null,
   "metadata": {},
   "outputs": [],
   "source": [
    "new_general_tweet_dataset.groupby('Tweet_year')['Favorites'].sum().plot.pie(legend = True)\n",
    "plt.title('Number of favorite for each year')"
   ]
  },
  {
   "cell_type": "markdown",
   "metadata": {},
   "source": [
    "<h4 style=\"color:black; font-weight:600;\">Let vizualize the reliable prediction</h4>\n",
    "<p>The most reliable prediction is the first prediction</p>"
   ]
  },
  {
   "cell_type": "code",
   "execution_count": null,
   "metadata": {},
   "outputs": [],
   "source": [
    "new_general_tweet_dataset.sample(1)"
   ]
  },
  {
   "cell_type": "code",
   "execution_count": null,
   "metadata": {},
   "outputs": [],
   "source": [
    "new_general_tweet_dataset[['First_prediction_reliability','Second_prediction_reliability','Third_prediction_reliability']].mean().plot.bar(rot=0, figsize=[10,7])\n",
    "plt.title('Number of retweet for each year')\n",
    "plt.xlabel('Predictions')\n",
    "plt.ylabel('Reliability')"
   ]
  },
  {
   "cell_type": "markdown",
   "metadata": {},
   "source": [
    "<h4 style=\"color:black; font-weight:600;\">Let vizualize the most tweet source used</h4>\n",
    "<p>The most used tweet source is Iphone</p>"
   ]
  },
  {
   "cell_type": "code",
   "execution_count": null,
   "metadata": {},
   "outputs": [],
   "source": [
    "#Check if the columns Tweet_source_x and Tweet_source_y are the same\n",
    "len(new_general_tweet_dataset) == len(new_general_tweet_dataset[new_general_tweet_dataset.Tweet_source_x==new_general_tweet_dataset.Tweet_source_y])"
   ]
  },
  {
   "cell_type": "code",
   "execution_count": null,
   "metadata": {},
   "outputs": [],
   "source": [
    "new_general_tweet_dataset['Tweet_source'] = new_general_tweet_dataset.Tweet_source_x\n",
    "drop_column(new_general_tweet_dataset,'Tweet_source_x')\n",
    "drop_column(new_general_tweet_dataset,'Tweet_source_y')"
   ]
  },
  {
   "cell_type": "code",
   "execution_count": null,
   "metadata": {},
   "outputs": [],
   "source": [
    "new_general_tweet_dataset.groupby('Tweet_source')['Tweet_id'].count().plot.bar(rot=0)\n",
    "plt.title('Number of tweet from each type of device')\n",
    "plt.xlabel('Type of device')\n",
    "plt.ylabel('Number of tweet from device')"
   ]
  },
  {
   "cell_type": "code",
   "execution_count": null,
   "metadata": {},
   "outputs": [],
   "source": [
    "new_general_tweet_dataset.shape"
   ]
  }
 ],
 "metadata": {
  "kernelspec": {
   "display_name": "Python 3.10.7 64-bit",
   "language": "python",
   "name": "python3"
  },
  "language_info": {
   "codemirror_mode": {
    "name": "ipython",
    "version": 3
   },
   "file_extension": ".py",
   "mimetype": "text/x-python",
   "name": "python",
   "nbconvert_exporter": "python",
   "pygments_lexer": "ipython3",
   "version": "3.10.7"
  },
  "orig_nbformat": 4,
  "vscode": {
   "interpreter": {
    "hash": "369f2c481f4da34e4445cda3fffd2e751bd1c4d706f27375911949ba6bb62e1c"
   }
  }
 },
 "nbformat": 4,
 "nbformat_minor": 2
}
